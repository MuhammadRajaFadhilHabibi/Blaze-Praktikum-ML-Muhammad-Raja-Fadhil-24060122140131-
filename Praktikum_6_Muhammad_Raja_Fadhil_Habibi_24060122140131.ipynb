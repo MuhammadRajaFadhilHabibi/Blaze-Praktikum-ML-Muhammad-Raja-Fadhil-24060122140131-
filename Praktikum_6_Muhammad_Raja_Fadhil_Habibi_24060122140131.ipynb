{
  "nbformat": 4,
  "nbformat_minor": 0,
  "metadata": {
    "colab": {
      "provenance": []
    },
    "kernelspec": {
      "name": "python3",
      "display_name": "Python 3"
    },
    "language_info": {
      "name": "python"
    }
  },
  "cells": [
    {
      "cell_type": "markdown",
      "source": [
        "Nama: Muhammad Raja Fadhil Habibi\n",
        "\n",
        "NIM: 24060122140131\n",
        "\n",
        "LAB: C1"
      ],
      "metadata": {
        "id": "RnudVDvSLOo0"
      }
    },
    {
      "cell_type": "markdown",
      "source": [
        "Lakukan Principal Component Analysis untuk dataset yang anda pilih di tugas 1!"
      ],
      "metadata": {
        "id": "_39H7gS2LYAr"
      }
    },
    {
      "cell_type": "code",
      "execution_count": 4,
      "metadata": {
        "id": "2IDafUqAFmIp"
      },
      "outputs": [],
      "source": [
        "import pandas as pd\n",
        "import numpy as np\n",
        "from matplotlib import pyplot as plt\n",
        "from sklearn.preprocessing import StandardScaler\n",
        "from sklearn.decomposition import PCA\n"
      ]
    },
    {
      "cell_type": "code",
      "source": [
        "# Read Data\n",
        "pdf = pd.read_csv('cars_clus.csv')\n",
        "print(\"Shape of dataset: \", pdf.shape)\n",
        "pdf.head(5)"
      ],
      "metadata": {
        "colab": {
          "base_uri": "https://localhost:8080/",
          "height": 223
        },
        "id": "rQUqgAOUL2VG",
        "outputId": "fb2f99bc-4f37-43b0-ce10-121b34423d0e"
      },
      "execution_count": 14,
      "outputs": [
        {
          "output_type": "stream",
          "name": "stdout",
          "text": [
            "Shape of dataset:  (159, 16)\n"
          ]
        },
        {
          "output_type": "execute_result",
          "data": {
            "text/plain": [
              "  manufact    model   sales  resale type   price engine_s horsepow wheelbas  \\\n",
              "0    Acura  Integra  16.919   16.36    0    21.5      1.8      140    101.2   \n",
              "1    Acura       TL  39.384  19.875    0    28.4      3.2      225    108.1   \n",
              "2    Acura       CL  14.114  18.225    0  $null$      3.2      225    106.9   \n",
              "3    Acura       RL   8.588  29.725    0      42      3.5      210    114.6   \n",
              "4     Audi       A4  20.397  22.255    0   23.99      1.8      150    102.6   \n",
              "\n",
              "  width length curb_wgt fuel_cap mpg lnsales  partition  \n",
              "0  67.3  172.4    2.639     13.2  28   2.828          0  \n",
              "1  70.3  192.9    3.517     17.2  25   3.673          0  \n",
              "2  70.6    192     3.47     17.2  26   2.647          0  \n",
              "3  71.4  196.6     3.85       18  22    2.15          0  \n",
              "4  68.2    178    2.998     16.4  27   3.015          0  "
            ],
            "text/html": [
              "\n",
              "  <div id=\"df-f53477c6-76f1-40c6-968d-0825c5df4ff0\" class=\"colab-df-container\">\n",
              "    <div>\n",
              "<style scoped>\n",
              "    .dataframe tbody tr th:only-of-type {\n",
              "        vertical-align: middle;\n",
              "    }\n",
              "\n",
              "    .dataframe tbody tr th {\n",
              "        vertical-align: top;\n",
              "    }\n",
              "\n",
              "    .dataframe thead th {\n",
              "        text-align: right;\n",
              "    }\n",
              "</style>\n",
              "<table border=\"1\" class=\"dataframe\">\n",
              "  <thead>\n",
              "    <tr style=\"text-align: right;\">\n",
              "      <th></th>\n",
              "      <th>manufact</th>\n",
              "      <th>model</th>\n",
              "      <th>sales</th>\n",
              "      <th>resale</th>\n",
              "      <th>type</th>\n",
              "      <th>price</th>\n",
              "      <th>engine_s</th>\n",
              "      <th>horsepow</th>\n",
              "      <th>wheelbas</th>\n",
              "      <th>width</th>\n",
              "      <th>length</th>\n",
              "      <th>curb_wgt</th>\n",
              "      <th>fuel_cap</th>\n",
              "      <th>mpg</th>\n",
              "      <th>lnsales</th>\n",
              "      <th>partition</th>\n",
              "    </tr>\n",
              "  </thead>\n",
              "  <tbody>\n",
              "    <tr>\n",
              "      <th>0</th>\n",
              "      <td>Acura</td>\n",
              "      <td>Integra</td>\n",
              "      <td>16.919</td>\n",
              "      <td>16.36</td>\n",
              "      <td>0</td>\n",
              "      <td>21.5</td>\n",
              "      <td>1.8</td>\n",
              "      <td>140</td>\n",
              "      <td>101.2</td>\n",
              "      <td>67.3</td>\n",
              "      <td>172.4</td>\n",
              "      <td>2.639</td>\n",
              "      <td>13.2</td>\n",
              "      <td>28</td>\n",
              "      <td>2.828</td>\n",
              "      <td>0</td>\n",
              "    </tr>\n",
              "    <tr>\n",
              "      <th>1</th>\n",
              "      <td>Acura</td>\n",
              "      <td>TL</td>\n",
              "      <td>39.384</td>\n",
              "      <td>19.875</td>\n",
              "      <td>0</td>\n",
              "      <td>28.4</td>\n",
              "      <td>3.2</td>\n",
              "      <td>225</td>\n",
              "      <td>108.1</td>\n",
              "      <td>70.3</td>\n",
              "      <td>192.9</td>\n",
              "      <td>3.517</td>\n",
              "      <td>17.2</td>\n",
              "      <td>25</td>\n",
              "      <td>3.673</td>\n",
              "      <td>0</td>\n",
              "    </tr>\n",
              "    <tr>\n",
              "      <th>2</th>\n",
              "      <td>Acura</td>\n",
              "      <td>CL</td>\n",
              "      <td>14.114</td>\n",
              "      <td>18.225</td>\n",
              "      <td>0</td>\n",
              "      <td>$null$</td>\n",
              "      <td>3.2</td>\n",
              "      <td>225</td>\n",
              "      <td>106.9</td>\n",
              "      <td>70.6</td>\n",
              "      <td>192</td>\n",
              "      <td>3.47</td>\n",
              "      <td>17.2</td>\n",
              "      <td>26</td>\n",
              "      <td>2.647</td>\n",
              "      <td>0</td>\n",
              "    </tr>\n",
              "    <tr>\n",
              "      <th>3</th>\n",
              "      <td>Acura</td>\n",
              "      <td>RL</td>\n",
              "      <td>8.588</td>\n",
              "      <td>29.725</td>\n",
              "      <td>0</td>\n",
              "      <td>42</td>\n",
              "      <td>3.5</td>\n",
              "      <td>210</td>\n",
              "      <td>114.6</td>\n",
              "      <td>71.4</td>\n",
              "      <td>196.6</td>\n",
              "      <td>3.85</td>\n",
              "      <td>18</td>\n",
              "      <td>22</td>\n",
              "      <td>2.15</td>\n",
              "      <td>0</td>\n",
              "    </tr>\n",
              "    <tr>\n",
              "      <th>4</th>\n",
              "      <td>Audi</td>\n",
              "      <td>A4</td>\n",
              "      <td>20.397</td>\n",
              "      <td>22.255</td>\n",
              "      <td>0</td>\n",
              "      <td>23.99</td>\n",
              "      <td>1.8</td>\n",
              "      <td>150</td>\n",
              "      <td>102.6</td>\n",
              "      <td>68.2</td>\n",
              "      <td>178</td>\n",
              "      <td>2.998</td>\n",
              "      <td>16.4</td>\n",
              "      <td>27</td>\n",
              "      <td>3.015</td>\n",
              "      <td>0</td>\n",
              "    </tr>\n",
              "  </tbody>\n",
              "</table>\n",
              "</div>\n",
              "    <div class=\"colab-df-buttons\">\n",
              "\n",
              "  <div class=\"colab-df-container\">\n",
              "    <button class=\"colab-df-convert\" onclick=\"convertToInteractive('df-f53477c6-76f1-40c6-968d-0825c5df4ff0')\"\n",
              "            title=\"Convert this dataframe to an interactive table.\"\n",
              "            style=\"display:none;\">\n",
              "\n",
              "  <svg xmlns=\"http://www.w3.org/2000/svg\" height=\"24px\" viewBox=\"0 -960 960 960\">\n",
              "    <path d=\"M120-120v-720h720v720H120Zm60-500h600v-160H180v160Zm220 220h160v-160H400v160Zm0 220h160v-160H400v160ZM180-400h160v-160H180v160Zm440 0h160v-160H620v160ZM180-180h160v-160H180v160Zm440 0h160v-160H620v160Z\"/>\n",
              "  </svg>\n",
              "    </button>\n",
              "\n",
              "  <style>\n",
              "    .colab-df-container {\n",
              "      display:flex;\n",
              "      gap: 12px;\n",
              "    }\n",
              "\n",
              "    .colab-df-convert {\n",
              "      background-color: #E8F0FE;\n",
              "      border: none;\n",
              "      border-radius: 50%;\n",
              "      cursor: pointer;\n",
              "      display: none;\n",
              "      fill: #1967D2;\n",
              "      height: 32px;\n",
              "      padding: 0 0 0 0;\n",
              "      width: 32px;\n",
              "    }\n",
              "\n",
              "    .colab-df-convert:hover {\n",
              "      background-color: #E2EBFA;\n",
              "      box-shadow: 0px 1px 2px rgba(60, 64, 67, 0.3), 0px 1px 3px 1px rgba(60, 64, 67, 0.15);\n",
              "      fill: #174EA6;\n",
              "    }\n",
              "\n",
              "    .colab-df-buttons div {\n",
              "      margin-bottom: 4px;\n",
              "    }\n",
              "\n",
              "    [theme=dark] .colab-df-convert {\n",
              "      background-color: #3B4455;\n",
              "      fill: #D2E3FC;\n",
              "    }\n",
              "\n",
              "    [theme=dark] .colab-df-convert:hover {\n",
              "      background-color: #434B5C;\n",
              "      box-shadow: 0px 1px 3px 1px rgba(0, 0, 0, 0.15);\n",
              "      filter: drop-shadow(0px 1px 2px rgba(0, 0, 0, 0.3));\n",
              "      fill: #FFFFFF;\n",
              "    }\n",
              "  </style>\n",
              "\n",
              "    <script>\n",
              "      const buttonEl =\n",
              "        document.querySelector('#df-f53477c6-76f1-40c6-968d-0825c5df4ff0 button.colab-df-convert');\n",
              "      buttonEl.style.display =\n",
              "        google.colab.kernel.accessAllowed ? 'block' : 'none';\n",
              "\n",
              "      async function convertToInteractive(key) {\n",
              "        const element = document.querySelector('#df-f53477c6-76f1-40c6-968d-0825c5df4ff0');\n",
              "        const dataTable =\n",
              "          await google.colab.kernel.invokeFunction('convertToInteractive',\n",
              "                                                    [key], {});\n",
              "        if (!dataTable) return;\n",
              "\n",
              "        const docLinkHtml = 'Like what you see? Visit the ' +\n",
              "          '<a target=\"_blank\" href=https://colab.research.google.com/notebooks/data_table.ipynb>data table notebook</a>'\n",
              "          + ' to learn more about interactive tables.';\n",
              "        element.innerHTML = '';\n",
              "        dataTable['output_type'] = 'display_data';\n",
              "        await google.colab.output.renderOutput(dataTable, element);\n",
              "        const docLink = document.createElement('div');\n",
              "        docLink.innerHTML = docLinkHtml;\n",
              "        element.appendChild(docLink);\n",
              "      }\n",
              "    </script>\n",
              "  </div>\n",
              "\n",
              "\n",
              "<div id=\"df-2557f01f-6d68-4ee6-be76-594b206b105f\">\n",
              "  <button class=\"colab-df-quickchart\" onclick=\"quickchart('df-2557f01f-6d68-4ee6-be76-594b206b105f')\"\n",
              "            title=\"Suggest charts\"\n",
              "            style=\"display:none;\">\n",
              "\n",
              "<svg xmlns=\"http://www.w3.org/2000/svg\" height=\"24px\"viewBox=\"0 0 24 24\"\n",
              "     width=\"24px\">\n",
              "    <g>\n",
              "        <path d=\"M19 3H5c-1.1 0-2 .9-2 2v14c0 1.1.9 2 2 2h14c1.1 0 2-.9 2-2V5c0-1.1-.9-2-2-2zM9 17H7v-7h2v7zm4 0h-2V7h2v10zm4 0h-2v-4h2v4z\"/>\n",
              "    </g>\n",
              "</svg>\n",
              "  </button>\n",
              "\n",
              "<style>\n",
              "  .colab-df-quickchart {\n",
              "      --bg-color: #E8F0FE;\n",
              "      --fill-color: #1967D2;\n",
              "      --hover-bg-color: #E2EBFA;\n",
              "      --hover-fill-color: #174EA6;\n",
              "      --disabled-fill-color: #AAA;\n",
              "      --disabled-bg-color: #DDD;\n",
              "  }\n",
              "\n",
              "  [theme=dark] .colab-df-quickchart {\n",
              "      --bg-color: #3B4455;\n",
              "      --fill-color: #D2E3FC;\n",
              "      --hover-bg-color: #434B5C;\n",
              "      --hover-fill-color: #FFFFFF;\n",
              "      --disabled-bg-color: #3B4455;\n",
              "      --disabled-fill-color: #666;\n",
              "  }\n",
              "\n",
              "  .colab-df-quickchart {\n",
              "    background-color: var(--bg-color);\n",
              "    border: none;\n",
              "    border-radius: 50%;\n",
              "    cursor: pointer;\n",
              "    display: none;\n",
              "    fill: var(--fill-color);\n",
              "    height: 32px;\n",
              "    padding: 0;\n",
              "    width: 32px;\n",
              "  }\n",
              "\n",
              "  .colab-df-quickchart:hover {\n",
              "    background-color: var(--hover-bg-color);\n",
              "    box-shadow: 0 1px 2px rgba(60, 64, 67, 0.3), 0 1px 3px 1px rgba(60, 64, 67, 0.15);\n",
              "    fill: var(--button-hover-fill-color);\n",
              "  }\n",
              "\n",
              "  .colab-df-quickchart-complete:disabled,\n",
              "  .colab-df-quickchart-complete:disabled:hover {\n",
              "    background-color: var(--disabled-bg-color);\n",
              "    fill: var(--disabled-fill-color);\n",
              "    box-shadow: none;\n",
              "  }\n",
              "\n",
              "  .colab-df-spinner {\n",
              "    border: 2px solid var(--fill-color);\n",
              "    border-color: transparent;\n",
              "    border-bottom-color: var(--fill-color);\n",
              "    animation:\n",
              "      spin 1s steps(1) infinite;\n",
              "  }\n",
              "\n",
              "  @keyframes spin {\n",
              "    0% {\n",
              "      border-color: transparent;\n",
              "      border-bottom-color: var(--fill-color);\n",
              "      border-left-color: var(--fill-color);\n",
              "    }\n",
              "    20% {\n",
              "      border-color: transparent;\n",
              "      border-left-color: var(--fill-color);\n",
              "      border-top-color: var(--fill-color);\n",
              "    }\n",
              "    30% {\n",
              "      border-color: transparent;\n",
              "      border-left-color: var(--fill-color);\n",
              "      border-top-color: var(--fill-color);\n",
              "      border-right-color: var(--fill-color);\n",
              "    }\n",
              "    40% {\n",
              "      border-color: transparent;\n",
              "      border-right-color: var(--fill-color);\n",
              "      border-top-color: var(--fill-color);\n",
              "    }\n",
              "    60% {\n",
              "      border-color: transparent;\n",
              "      border-right-color: var(--fill-color);\n",
              "    }\n",
              "    80% {\n",
              "      border-color: transparent;\n",
              "      border-right-color: var(--fill-color);\n",
              "      border-bottom-color: var(--fill-color);\n",
              "    }\n",
              "    90% {\n",
              "      border-color: transparent;\n",
              "      border-bottom-color: var(--fill-color);\n",
              "    }\n",
              "  }\n",
              "</style>\n",
              "\n",
              "  <script>\n",
              "    async function quickchart(key) {\n",
              "      const quickchartButtonEl =\n",
              "        document.querySelector('#' + key + ' button');\n",
              "      quickchartButtonEl.disabled = true;  // To prevent multiple clicks.\n",
              "      quickchartButtonEl.classList.add('colab-df-spinner');\n",
              "      try {\n",
              "        const charts = await google.colab.kernel.invokeFunction(\n",
              "            'suggestCharts', [key], {});\n",
              "      } catch (error) {\n",
              "        console.error('Error during call to suggestCharts:', error);\n",
              "      }\n",
              "      quickchartButtonEl.classList.remove('colab-df-spinner');\n",
              "      quickchartButtonEl.classList.add('colab-df-quickchart-complete');\n",
              "    }\n",
              "    (() => {\n",
              "      let quickchartButtonEl =\n",
              "        document.querySelector('#df-2557f01f-6d68-4ee6-be76-594b206b105f button');\n",
              "      quickchartButtonEl.style.display =\n",
              "        google.colab.kernel.accessAllowed ? 'block' : 'none';\n",
              "    })();\n",
              "  </script>\n",
              "</div>\n",
              "\n",
              "    </div>\n",
              "  </div>\n"
            ],
            "application/vnd.google.colaboratory.intrinsic+json": {
              "type": "dataframe",
              "variable_name": "pdf",
              "summary": "{\n  \"name\": \"pdf\",\n  \"rows\": 159,\n  \"fields\": [\n    {\n      \"column\": \"manufact\",\n      \"properties\": {\n        \"dtype\": \"category\",\n        \"num_unique_values\": 30,\n        \"samples\": [\n          \"Toyota\",\n          \"Lincoln\",\n          \"Porsche\"\n        ],\n        \"semantic_type\": \"\",\n        \"description\": \"\"\n      }\n    },\n    {\n      \"column\": \"model\",\n      \"properties\": {\n        \"dtype\": \"string\",\n        \"num_unique_values\": 158,\n        \"samples\": [\n          \"SL\",\n          \"Caravan\",\n          \"Forester\"\n        ],\n        \"semantic_type\": \"\",\n        \"description\": \"\"\n      }\n    },\n    {\n      \"column\": \"sales\",\n      \"properties\": {\n        \"dtype\": \"string\",\n        \"num_unique_values\": 158,\n        \"samples\": [\n          \"12.115\",\n          \"181.749\",\n          \"47.107\"\n        ],\n        \"semantic_type\": \"\",\n        \"description\": \"\"\n      }\n    },\n    {\n      \"column\": \"resale\",\n      \"properties\": {\n        \"dtype\": \"string\",\n        \"num_unique_values\": 118,\n        \"samples\": [\n          \"5.86\",\n          \"17.81\",\n          \"22.255\"\n        ],\n        \"semantic_type\": \"\",\n        \"description\": \"\"\n      }\n    },\n    {\n      \"column\": \"type\",\n      \"properties\": {\n        \"dtype\": \"category\",\n        \"num_unique_values\": 3,\n        \"samples\": [\n          \"0\",\n          \"1\",\n          \"$null$\"\n        ],\n        \"semantic_type\": \"\",\n        \"description\": \"\"\n      }\n    },\n    {\n      \"column\": \"price\",\n      \"properties\": {\n        \"dtype\": \"string\",\n        \"num_unique_values\": 154,\n        \"samples\": [\n          \"44.475\",\n          \"41\",\n          \"36\"\n        ],\n        \"semantic_type\": \"\",\n        \"description\": \"\"\n      }\n    },\n    {\n      \"column\": \"engine_s\",\n      \"properties\": {\n        \"dtype\": \"category\",\n        \"num_unique_values\": 32,\n        \"samples\": [\n          \"5\",\n          \"2\",\n          \"1.5\"\n        ],\n        \"semantic_type\": \"\",\n        \"description\": \"\"\n      }\n    },\n    {\n      \"column\": \"horsepow\",\n      \"properties\": {\n        \"dtype\": \"category\",\n        \"num_unique_values\": 69,\n        \"samples\": [\n          \"$null$\",\n          \"140\",\n          \"125\"\n        ],\n        \"semantic_type\": \"\",\n        \"description\": \"\"\n      }\n    },\n    {\n      \"column\": \"wheelbas\",\n      \"properties\": {\n        \"dtype\": \"string\",\n        \"num_unique_values\": 90,\n        \"samples\": [\n          \"114.7\",\n          \"97.1\",\n          \"105.9\"\n        ],\n        \"semantic_type\": \"\",\n        \"description\": \"\"\n      }\n    },\n    {\n      \"column\": \"width\",\n      \"properties\": {\n        \"dtype\": \"string\",\n        \"num_unique_values\": 80,\n        \"samples\": [\n          \"69.1\",\n          \"67.3\",\n          \"66.7\"\n        ],\n        \"semantic_type\": \"\",\n        \"description\": \"\"\n      }\n    },\n    {\n      \"column\": \"length\",\n      \"properties\": {\n        \"dtype\": \"string\",\n        \"num_unique_values\": 130,\n        \"samples\": [\n          \"178.2\",\n          \"193.5\",\n          \"200.9\"\n        ],\n        \"semantic_type\": \"\",\n        \"description\": \"\"\n      }\n    },\n    {\n      \"column\": \"curb_wgt\",\n      \"properties\": {\n        \"dtype\": \"string\",\n        \"num_unique_values\": 149,\n        \"samples\": [\n          \"3.9\",\n          \"5.572\",\n          \"3.396\"\n        ],\n        \"semantic_type\": \"\",\n        \"description\": \"\"\n      }\n    },\n    {\n      \"column\": \"fuel_cap\",\n      \"properties\": {\n        \"dtype\": \"category\",\n        \"num_unique_values\": 56,\n        \"samples\": [\n          \"13.2\",\n          \"23.7\",\n          \"14.5\"\n        ],\n        \"semantic_type\": \"\",\n        \"description\": \"\"\n      }\n    },\n    {\n      \"column\": \"mpg\",\n      \"properties\": {\n        \"dtype\": \"category\",\n        \"num_unique_values\": 24,\n        \"samples\": [\n          \"24.8\",\n          \"17\",\n          \"28\"\n        ],\n        \"semantic_type\": \"\",\n        \"description\": \"\"\n      }\n    },\n    {\n      \"column\": \"lnsales\",\n      \"properties\": {\n        \"dtype\": \"string\",\n        \"num_unique_values\": 151,\n        \"samples\": [\n          \"3.132\",\n          \"2.694\",\n          \"2.428\"\n        ],\n        \"semantic_type\": \"\",\n        \"description\": \"\"\n      }\n    },\n    {\n      \"column\": \"partition\",\n      \"properties\": {\n        \"dtype\": \"number\",\n        \"std\": 0,\n        \"min\": 0,\n        \"max\": 1,\n        \"num_unique_values\": 2,\n        \"samples\": [\n          1,\n          0\n        ],\n        \"semantic_type\": \"\",\n        \"description\": \"\"\n      }\n    }\n  ]\n}"
            }
          },
          "metadata": {},
          "execution_count": 14
        }
      ]
    },
    {
      "cell_type": "markdown",
      "source": [
        "\n",
        "Pada langkah pertama, dataset cars_clus.csv dibaca menggunakan pd.read_csv dan disimpan dalam variabel pdf sebagai DataFrame. Dengan menggunakan print(pdf.shape), kita mencetak ukuran dataset (jumlah baris dan kolom) untuk memahami struktur data. Kemudian, pdf.head(5) menampilkan 5 baris pertama dari dataset untuk memberikan gambaran awal mengenai data yang ada, termasuk nama kolom dan nilai yang terkandung di dalamnya. Langkah ini penting untuk memahami data yang akan dianalisis dan memastikan bahwa file CSV telah berhasil dimuat dengan benar."
      ],
      "metadata": {
        "id": "bfNSffjFRNG0"
      }
    },
    {
      "cell_type": "code",
      "source": [
        "pdf.replace('$null$', np.nan, inplace=True)\n",
        "pdf.dropna(inplace=True)"
      ],
      "metadata": {
        "id": "2RSMDkJFPFkb"
      },
      "execution_count": 15,
      "outputs": []
    },
    {
      "cell_type": "markdown",
      "source": [
        "Kemudian, nilai $null$ diubah menjadi NaN menggunakan replace(), dan baris yang mengandung nilai hilang dihapus dengan dropna(), memastikan data yang akan diproses tidak memiliki missing values."
      ],
      "metadata": {
        "id": "Umx9PlPGRfrm"
      }
    },
    {
      "cell_type": "code",
      "source": [
        "# Memilih fitur numerik untuk PCA\n",
        "features = ['price', 'engine_s', 'horsepow', 'wheelbas', 'width', 'length', 'curb_wgt', 'fuel_cap', 'mpg']\n",
        "X = pdf[features].values\n"
      ],
      "metadata": {
        "id": "eTIFlyqFPc2q"
      },
      "execution_count": 6,
      "outputs": []
    },
    {
      "cell_type": "markdown",
      "source": [
        "Memilih Fitur Numerik: Anda memilih fitur numerik yang relevan untuk analisis PCA, seperti price, engine_s, horsepow, dan lainnya, yang akan digunakan untuk mengurangi dimensi."
      ],
      "metadata": {
        "id": "Z15aSBUIRmT7"
      }
    },
    {
      "cell_type": "code",
      "source": [
        "# Standardisasi data\n",
        "scaler = StandardScaler()\n",
        "X_scaled = scaler.fit_transform(X)\n"
      ],
      "metadata": {
        "id": "-K4xVeBYPgYs"
      },
      "execution_count": 7,
      "outputs": []
    },
    {
      "cell_type": "markdown",
      "source": [
        "Pada bagian kode ini, dilakukan standarisasi data menggunakan StandardScaler dari pustaka sklearn.preprocessing. Standarisasi bertujuan untuk mengubah skala setiap fitur dalam dataset sehingga memiliki distribusi dengan rata-rata 0 dan deviasi standar 1. Hal ini penting karena banyak algoritma pembelajaran mesin, termasuk PCA, sensitif terhadap skala fitur. Dengan menggunakan fit_transform(), StandardScaler menghitung rata-rata dan deviasi standar dari data dan mengaplikasikan transformasi tersebut pada data yang ada, menghasilkan data yang telah distandarisasi dan siap untuk diproses lebih lanjut."
      ],
      "metadata": {
        "id": "xHEXQhjTRu-S"
      }
    },
    {
      "cell_type": "code",
      "source": [
        "# Terapkan PCA untuk mengurangi dimensi menjadi 2\n",
        "pca = PCA(n_components=2)\n",
        "principalComponents = pca.fit_transform(X_scaled)\n",
        "\n",
        "# Buat DataFrame untuk komponen utama\n",
        "principalDf = pd.DataFrame(data=principalComponents, columns=['Principal Component 1', 'Principal Component 2'])\n"
      ],
      "metadata": {
        "id": "7xQgWAE5Pi6n"
      },
      "execution_count": 8,
      "outputs": []
    },
    {
      "cell_type": "markdown",
      "source": [
        "Pada bagian kode ini, dilakukan penerapan Principal Component Analysis (PCA) untuk mengurangi dimensi data dari fitur yang ada menjadi 2 komponen utama. Dengan menggunakan PCA(n_components=2), kita meminta PCA untuk menghasilkan dua komponen utama yang menjelaskan sebagian besar variansi dalam data. Fungsi fit_transform() digunakan untuk menyesuaikan model PCA dengan data yang telah distandarisasi dan kemudian mentransformasikan data tersebut ke dalam ruang komponen utama. Hasil transformasi ini disimpan dalam variabel principalComponents, yang kemudian digunakan untuk membuat DataFrame baru (principalDf) dengan dua kolom yang mewakili dua komponen utama, yakni 'Principal Component 1' dan 'Principal Component 2'. DataFrame ini memungkinkan visualisasi dan analisis lebih lanjut dari hasil PCA."
      ],
      "metadata": {
        "id": "D8S0IJHCR13A"
      }
    },
    {
      "cell_type": "code",
      "source": [
        "# Menambahkan kolom target (misalnya 'partition')\n",
        "finalDf = pd.concat([principalDf, pdf[['partition']]], axis=1)\n",
        "\n",
        "# Visualisasi hasil PCA\n",
        "fig = plt.figure(figsize=(8,8))\n",
        "ax = fig.add_subplot(1,1,1)\n",
        "ax.set_xlabel('Principal Component 1', fontsize=15)\n",
        "ax.set_ylabel('Principal Component 2', fontsize=15)\n",
        "ax.set_title('2 Component PCA', fontsize=20)\n",
        "\n",
        "# Visualisasi berdasarkan cluster (partition)\n",
        "targets = finalDf['partition'].unique()\n",
        "colors = ['r', 'g', 'b', 'y', 'c', 'm']\n",
        "\n",
        "for target, color in zip(targets, colors):\n",
        "    indicesToKeep = finalDf['partition'] == target\n",
        "    ax.scatter(finalDf.loc[indicesToKeep, 'Principal Component 1'],\n",
        "               finalDf.loc[indicesToKeep, 'Principal Component 2'],\n",
        "               c=color, s=50)\n",
        "ax.legend(targets)\n",
        "ax.grid()\n",
        "plt.show()\n"
      ],
      "metadata": {
        "colab": {
          "base_uri": "https://localhost:8080/",
          "height": 732
        },
        "id": "V6XYIWLuPlTF",
        "outputId": "e0ff0d8b-0018-4ef2-9de4-60b55b63a9cb"
      },
      "execution_count": 9,
      "outputs": [
        {
          "output_type": "display_data",
          "data": {
            "text/plain": [
              "<Figure size 800x800 with 1 Axes>"
            ],
            "image/png": "[encoded data removed]"
          },
          "metadata": {}
        }
      ]
    },
    {
      "cell_type": "markdown",
      "source": [
        "\n",
        "Pada bagian kode ini, pertama-tama kolom 'partition' (yang bisa berisi label atau kategori cluster) ditambahkan ke DataFrame principalDf menggunakan fungsi pd.concat(). Kolom ini menghubungkan hasil PCA dengan informasi kategori (misalnya, hasil clustering) yang akan digunakan untuk visualisasi. Selanjutnya, visualisasi dilakukan dengan membuat plot sebar (scatter plot) menggunakan matplotlib. Sumbu x dan y masing-masing mewakili Principal Component 1 dan Principal Component 2, yang merupakan dua komponen utama hasil dari PCA. Setiap titik dalam plot merepresentasikan satu data point, dan warnanya ditentukan berdasarkan kategori yang ada di kolom 'partition'. Dengan cara ini, kita bisa melihat bagaimana data terdistribusi dalam dua dimensi baru dan apakah ada pemisahan yang jelas antar cluster. Setiap kategori (target) dipetakan ke warna yang berbeda untuk membedakan grup-grup yang berbeda. Legenda ditambahkan untuk mempermudah interpretasi, dan grid pada plot memberikan kemudahan dalam membaca posisi data. Akhirnya, grafik ditampilkan dengan plt.show().\n",
        "\n",
        "\n",
        "Visualisasi PCA yang Anda tampilkan memberikan gambaran awal tentang struktur data Anda. Titik-titik data yang tersebar merata tanpa membentuk kelompok yang jelas mengindikasikan bahwa berdasarkan dua komponen utama yang dipilih, tidak ada pemisahan yang signifikan dalam data. Namun, interpretasi ini perlu diperdalam dengan mempertimbangkan beberapa faktor: Pertama, jumlah komponen utama yang digunakan dapat mempengaruhi hasil. Kedua, skala data yang berbeda dapat memengaruhi interpretasi. Terakhir, untuk memahami makna dari setiap komponen utama, kita perlu melihat kontribusi dari masing-masing variabel asli terhadap komponen tersebut. Secara keseluruhan, visualisasi ini memberikan gambaran awal, tetapi analisis lebih lanjut diperlukan untuk mendapatkan pemahaman yang komprehensif tentang data Anda."
      ],
      "metadata": {
        "id": "9culRZsmSBQz"
      }
    },
    {
      "cell_type": "code",
      "source": [
        "# Menampilkan rasio variansi yang dijelaskan oleh setiap komponen\n",
        "print('Explained Variance Ratio:')\n",
        "print(pca.explained_variance_ratio_)\n",
        "\n",
        "# Total variansi yang dijelaskan oleh 2 komponen utama\n",
        "print('Total Explained Variance by 2 Components: %.2f' % sum(pca.explained_variance_ratio_))\n"
      ],
      "metadata": {
        "colab": {
          "base_uri": "https://localhost:8080/"
        },
        "id": "GVivOyipPp5m",
        "outputId": "73e1c41c-b65b-455b-df8e-8c41374e35ca"
      },
      "execution_count": 10,
      "outputs": [
        {
          "output_type": "stream",
          "name": "stdout",
          "text": [
            "Explained Variance Ratio:\n",
            "[0.64006383 0.17880374]\n",
            "Total Explained Variance by 2 Components: 0.82\n"
          ]
        }
      ]
    },
    {
      "cell_type": "markdown",
      "source": [
        "Hasil analisis PCA menunjukkan rasio variansi yang dijelaskan oleh dua komponen utama yang dihasilkan dari dataset. Komponen pertama menjelaskan sekitar 64.01% dari total variansi, sedangkan komponen kedua menjelaskan sekitar 17.88%. Secara keseluruhan, kedua komponen ini menjelaskan sekitar 82% dari total variansi dalam data. Ini menunjukkan bahwa dua komponen utama tersebut mampu menangkap sebagian besar informasi yang terkandung dalam dataset, sehingga dapat digunakan untuk analisis lebih lanjut dan visualisasi tanpa kehilangan banyak informasi penting. Dengan demikian, penggunaan PCA dalam konteks ini efektif untuk mereduksi dimensi data sambil tetap mempertahankan struktur informasi yang signifikan."
      ],
      "metadata": {
        "id": "NwMfpXB_Ssxx"
      }
    },
    {
      "cell_type": "markdown",
      "source": [
        "Pada tugas ini, kita telah melakukan analisis data menggunakan Principal Component Analysis (PCA) untuk dataset cars_clus.csv. Langkah pertama yang dilakukan adalah menangani missing values dalam dataset dengan mengganti nilai \"$null$\" menjadi NaN, kemudian menghapus baris yang mengandung nilai yang hilang. Setelah itu, fitur numerik yang relevan dipilih untuk analisis PCA, dan data tersebut distandarisasi menggunakan StandardScaler agar memiliki rata-rata 0 dan variansi 1. Dengan standarisasi ini, kita memastikan bahwa setiap fitur memiliki bobot yang sama dalam analisis PCA, tanpa ada fitur yang mendominasi karena skala yang berbeda.\n",
        "\n",
        "Selanjutnya, PCA diterapkan untuk mengurangi dimensi data menjadi dua komponen utama, yang memungkinkan kita untuk memvisualisasikan data dalam dua dimensi. Visualisasi hasil PCA menunjukkan bagaimana data terdistribusi dalam ruang komponen utama, serta bagaimana masing-masing kategori dalam kolom 'partition' (yang mewakili cluster atau label) tersebar di ruang tersebut. Hal ini memberikan wawasan tentang pemisahan antar kategori dan pola yang mungkin ada dalam data.\n",
        "\n",
        "Dari hasil analisis, kita juga dapat melihat rasio variansi yang dijelaskan oleh setiap komponen utama. Dengan dua komponen utama, kita bisa mengamati seberapa besar kontribusi setiap komponen dalam menjelaskan variabilitas data. Dengan demikian, tugas ini menunjukkan bagaimana PCA dapat digunakan untuk mereduksi dimensi data, memudahkan visualisasi, dan memberikan pemahaman lebih baik mengenai struktur data yang ada."
      ],
      "metadata": {
        "id": "rHaAIZH5S0bn"
      }
    }
  ]
}